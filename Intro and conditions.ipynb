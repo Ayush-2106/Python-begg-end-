{
  "nbformat": 4,
  "nbformat_minor": 0,
  "metadata": {
    "colab": {
      "provenance": []
    },
    "kernelspec": {
      "name": "python3",
      "display_name": "Python 3"
    },
    "language_info": {
      "name": "python"
    }
  },
  "cells": [
    {
      "cell_type": "code",
      "source": [
        "'''\n",
        "Hey This is a comment\n",
        "\n",
        "'''\n",
        "\n",
        "# print('Hey')\n",
        "# print('Yo')\n",
        "# print('He')\n",
        "\n",
        "'''\n",
        "Fundamental Datatypes\n",
        "\n",
        "Integer\n",
        "float\n",
        "String\n",
        "Boolean\n",
        "'''\n",
        "\n",
        "## Operators\n",
        "\n",
        "# Arithmetic Operator\n",
        "\n",
        "## INT - INT\n",
        "# print(12 + 12)\n",
        "# print(25 - 5)\n",
        "# print(25 * 5)\n",
        "# print(25 / 5)\n",
        "# print(27 // 5)\n",
        "# print(27 % 5)\n",
        "# print(5 ** 3)\n",
        "\n",
        "## Bool - Bool\n",
        "\n",
        "# print(12 + True)\n",
        "\n",
        "\n",
        "# a = 25\n",
        "# b = 12\n",
        "\n",
        "# c = a % b\n",
        "# print(c)\n",
        "\n",
        "\n",
        "# name = 'Ayush'\n",
        "# age = 25\n",
        "\n",
        "# print(name +  age)\n",
        "\n",
        "\n",
        "# name = input('Give your name ')\n",
        "# age = int(input('Hi Give your age '))\n",
        "# print('Hi your name is', name, \"Your age is \", age)\n",
        "\n",
        "\n",
        "## Q) Find SI\n",
        "\n",
        "P = float(input('Give P '))\n",
        "R = float(input('Give R '))\n",
        "T = int(input('Give T '))\n",
        "\n",
        "SI = (P * R * T)/100\n",
        "# print('Your SI is', SI)\n",
        "print('SI is ',(P*R*T)/100)"
      ],
      "metadata": {
        "id": "fcvqikDYzKvH"
      },
      "execution_count": null,
      "outputs": []
    },
    {
      "cell_type": "markdown",
      "source": [
        "# Questions"
      ],
      "metadata": {
        "id": "_MLJ94K6ck1e"
      }
    },
    {
      "cell_type": "code",
      "execution_count": null,
      "metadata": {
        "colab": {
          "base_uri": "https://localhost:8080/"
        },
        "id": "Uj8TCdHMb7Ft",
        "outputId": "3ba0481b-c38b-48b4-df4e-09545ec6f595"
      },
      "outputs": [
        {
          "output_type": "stream",
          "name": "stdout",
          "text": [
            "Hi Harsh your marks are 23\n",
            "Hi Harsh your marks are 23\n"
          ]
        }
      ],
      "source": [
        "marks = 23\n",
        "name = 'Ayush'\n",
        "print('Hi', name, 'your marks are', marks)\n",
        "print(f'Hi {name} your marks are {marks}')"
      ]
    },
    {
      "cell_type": "markdown",
      "source": [
        "Find the volume of a cylinder\n"
      ],
      "metadata": {
        "id": "2lsjXR7Sd02v"
      }
    },
    {
      "cell_type": "code",
      "source": [
        "r = float(input(\"Please input the radius of thr cylinder:\"))\n",
        "h = float(input(\"Please input the height of the cylinder:\"))\n",
        "pie = float(input(\"Please input the value of pie:\"))\n",
        "volume = pie*(r**2)*h\n",
        "print(f\"Hi the volume of cylinder is{volume}\")\n"
      ],
      "metadata": {
        "colab": {
          "base_uri": "https://localhost:8080/"
        },
        "id": "cGV_T8sueA0N",
        "outputId": "154b2693-48d6-4c5f-c68e-a554db1797d1"
      },
      "execution_count": null,
      "outputs": [
        {
          "output_type": "stream",
          "name": "stdout",
          "text": [
            "Please input the radius of thr cylinder:7\n",
            "Please input the height of the cylinder:12\n",
            "Please input the value of pie:3.142\n",
            "Hi the volume of cylinder is1847.496\n"
          ]
        }
      ]
    },
    {
      "cell_type": "markdown",
      "source": [
        "Find the Compound Interest:"
      ],
      "metadata": {
        "id": "udlwwOmegX0P"
      }
    },
    {
      "cell_type": "code",
      "source": [
        "p = float(input('Please enter the principle amount: '))\n",
        "r = float(input('Please enter the rate of interest: '))\n",
        "n = float(input('Please enter the number of compounding periods: '))\n",
        "t = float(input('Please enter the number of times the money is imvested: '))\n",
        "A = p*(1+r/2)**n*t\n",
        "print(f'the Final Amount is {A}')\n",
        "CI = A-p\n",
        "print(f'the compound interst is: {CI}')"
      ],
      "metadata": {
        "colab": {
          "base_uri": "https://localhost:8080/"
        },
        "id": "Mm9vAOPbgxgw",
        "outputId": "b939d3a2-93eb-47d9-8d4c-82128f9312a8"
      },
      "execution_count": null,
      "outputs": [
        {
          "output_type": "stream",
          "name": "stdout",
          "text": [
            "Please enter the principle amount: 20000\n",
            "Please enter the rate of interest: 9\n",
            "Please enter the number of compounding periods: 10\n",
            "Please enter the number of times the money is imvested: 1000\n",
            "the Final Amount is 506590324238281.25\n",
            "the compound interst is: 506590324218281.25\n"
          ]
        }
      ]
    },
    {
      "cell_type": "code",
      "source": [
        "## comparison operator\n",
        "\n",
        "'''\n",
        ">\n",
        "<\n",
        ">=\n",
        "<=\n",
        "==\n",
        "'''\n",
        "a = 10\n",
        "b = 12\n",
        "print(a == b)"
      ],
      "metadata": {
        "colab": {
          "base_uri": "https://localhost:8080/"
        },
        "id": "9JCk2NfMjO5Z",
        "outputId": "0ddf6679-0034-4b5d-9281-2e62718ec640"
      },
      "execution_count": null,
      "outputs": [
        {
          "output_type": "stream",
          "name": "stdout",
          "text": [
            "False\n"
          ]
        }
      ]
    },
    {
      "cell_type": "code",
      "source": [
        "## Logical Operator\n",
        "'''\n",
        "AND\n",
        "OR\n",
        "NOT\n",
        "'''\n",
        "print(a>b and b<a)\n",
        "print(a>b or b<a)"
      ],
      "metadata": {
        "colab": {
          "base_uri": "https://localhost:8080/"
        },
        "id": "CQVY4cJnkoKe",
        "outputId": "d50916df-792d-498a-cbe1-9e3ae3000ef7"
      },
      "execution_count": null,
      "outputs": [
        {
          "output_type": "stream",
          "name": "stdout",
          "text": [
            "False\n"
          ]
        }
      ]
    },
    {
      "cell_type": "markdown",
      "source": [
        "Conditional"
      ],
      "metadata": {
        "id": "yh6wuHZGldEV"
      }
    },
    {
      "cell_type": "code",
      "source": [
        "age = 2\n",
        "if age >= 18:\n",
        "  print(\"eligible\")\n",
        "else:\n",
        "  print('not eligible')"
      ],
      "metadata": {
        "colab": {
          "base_uri": "https://localhost:8080/"
        },
        "id": "vf8YLLEJk0fZ",
        "outputId": "fbcaf91e-304e-4890-e492-2d032a08b15d"
      },
      "execution_count": null,
      "outputs": [
        {
          "output_type": "stream",
          "name": "stdout",
          "text": [
            "not eligible\n"
          ]
        }
      ]
    },
    {
      "cell_type": "markdown",
      "source": [
        "Take age from the user\n",
        "20-100 = adult\n",
        "13-19 = teenager\n",
        "6-12 = child\n",
        "anything else is invalid"
      ],
      "metadata": {
        "id": "3SlDg2-FmwnW"
      }
    },
    {
      "cell_type": "code",
      "source": [
        "age = int(input('Please enter the age:'))\n",
        "if age >= 20 and age <= 100:\n",
        "  print(\"adult\")\n",
        "elif age <= 13 and age <= 19:\n",
        "  print(\"teenager\")\n",
        "elif age <= 0 and age <= 12:\n",
        "  print(\"child\")\n",
        "else:\n",
        "  print('anything else is invalid')"
      ],
      "metadata": {
        "colab": {
          "base_uri": "https://localhost:8080/"
        },
        "id": "2yYbbKQYmOVB",
        "outputId": "6dcdfa4a-689c-4229-8e84-eea7ac862b4f"
      },
      "execution_count": null,
      "outputs": [
        {
          "output_type": "stream",
          "name": "stdout",
          "text": [
            "Please enter the age:777\n",
            "anything else is invalid\n"
          ]
        }
      ]
    },
    {
      "cell_type": "markdown",
      "source": [],
      "metadata": {
        "id": "oaDKkg20mJOO"
      }
    },
    {
      "cell_type": "code",
      "source": [
        "if True:\n",
        "  print('HI')\n",
        "  if False:\n",
        "    print('Hey')\n",
        "  else:\n",
        "    print(\"Hello\")\n",
        "  if False:\n",
        "     print('yo')\n",
        "  else:\n",
        "     print('H')\n",
        "     print('A')\n",
        "\n",
        "\n"
      ],
      "metadata": {
        "id": "YSUBLBBKmKID"
      },
      "execution_count": null,
      "outputs": []
    },
    {
      "cell_type": "code",
      "source": [],
      "metadata": {
        "id": "6guTqbAHsULS"
      },
      "execution_count": null,
      "outputs": []
    },
    {
      "cell_type": "markdown",
      "source": [
        "## Q. Check if the number is positive, if positive check check if it is odd or even else write negative"
      ],
      "metadata": {
        "id": "mFRqelsasT39"
      }
    },
    {
      "cell_type": "code",
      "source": [
        "number = float(input(\"Please provide the number: \"))\n",
        "if number > 0:\n",
        "  print(\"The number is positive\")\n",
        "  if number % 2 == 0:\n",
        "    print(\"Even\")\n",
        "  else:\n",
        "    print(\"Odd\")\n",
        "else:\n",
        "    print('negative')\n",
        "\n",
        "\n",
        "\n"
      ],
      "metadata": {
        "id": "10tHPAxVszt6"
      },
      "execution_count": null,
      "outputs": []
    },
    {
      "cell_type": "markdown",
      "source": [
        "Check if the number is divisible by 2 and 5 both"
      ],
      "metadata": {
        "id": "FG1uTMGAu62y"
      }
    },
    {
      "cell_type": "code",
      "source": [
        "# Divisible by 2\n",
        "# divisible by 5\n",
        "# divisible by both 2 and 5\n",
        "# divisible by none\n",
        "\n",
        "number = int(input('Please provide the number: '))\n",
        "if number % 2 == 0:\n",
        "  print('Divisible by 2')\n",
        "  if number % 5 == 0:\n",
        "    print('Divisible by 5')\n",
        "    if number % 2 == 0 and number % 5 == 0:\n",
        "      print('Divisible by both 2 and 5')\n",
        "    else:\n",
        "      print('Divisible by none')\n",
        "\n",
        "## 2nd method\n",
        "if number % 2 == 0:\n",
        "  if number % 5 == 0:\n",
        "    print('Divisible by both 2 and 5')\n",
        "  else:\n",
        "    print('DIVISIBLE BY 2 AND NOT BY 5')\n",
        "\n",
        "elif number % 5 == 0:\n",
        "    print('DIVISIBLE BY 5 AND NOT BY 2')\n",
        "  else:\n",
        "    print('DIVISIBLE BY NONE')"
      ],
      "metadata": {
        "colab": {
          "base_uri": "https://localhost:8080/"
        },
        "id": "t2LMEAqavAVl",
        "outputId": "95dad434-bc4e-4a06-fe85-77b21e514360"
      },
      "execution_count": null,
      "outputs": [
        {
          "name": "stdout",
          "output_type": "stream",
          "text": [
            "Please provide the number: 5\n"
          ]
        }
      ]
    },
    {
      "cell_type": "code",
      "source": [],
      "metadata": {
        "id": "hZiIXRuZwYSK"
      },
      "execution_count": null,
      "outputs": []
    }
  ]
}