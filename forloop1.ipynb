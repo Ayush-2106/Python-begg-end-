{
  "nbformat": 4,
  "nbformat_minor": 0,
  "metadata": {
    "colab": {
      "provenance": []
    },
    "kernelspec": {
      "name": "python3",
      "display_name": "Python 3"
    },
    "language_info": {
      "name": "python"
    }
  },
  "cells": [
    {
      "cell_type": "code",
      "source": [
        "range(5)"
      ],
      "metadata": {
        "colab": {
          "base_uri": "https://localhost:8080/"
        },
        "id": "WD9SU7Jr5Rll",
        "outputId": "3c28d682-2fc9-4d6b-fb1b-774ae8243b81"
      },
      "execution_count": 37,
      "outputs": [
        {
          "output_type": "execute_result",
          "data": {
            "text/plain": [
              "range(0, 5)"
            ]
          },
          "metadata": {},
          "execution_count": 37
        }
      ]
    },
    {
      "cell_type": "code",
      "source": [
        "for i in range(5):\n",
        "  print(i)"
      ],
      "metadata": {
        "colab": {
          "base_uri": "https://localhost:8080/"
        },
        "id": "j4U0Aq945VoH",
        "outputId": "5d65a771-a4d5-4118-c2de-33814bbc27c1"
      },
      "execution_count": 38,
      "outputs": [
        {
          "output_type": "stream",
          "name": "stdout",
          "text": [
            "0\n",
            "1\n",
            "2\n",
            "3\n",
            "4\n"
          ]
        }
      ]
    },
    {
      "cell_type": "code",
      "source": [
        "for i in range(1,5):\n",
        "  print(i)"
      ],
      "metadata": {
        "colab": {
          "base_uri": "https://localhost:8080/"
        },
        "id": "SvP1VKzN5dmP",
        "outputId": "7c22d506-9ad4-4e62-8c06-e036d08543ce"
      },
      "execution_count": 39,
      "outputs": [
        {
          "output_type": "stream",
          "name": "stdout",
          "text": [
            "1\n",
            "2\n",
            "3\n",
            "4\n"
          ]
        }
      ]
    },
    {
      "cell_type": "code",
      "source": [
        "for i in range(1,5,2):\n",
        "  print(i)"
      ],
      "metadata": {
        "colab": {
          "base_uri": "https://localhost:8080/"
        },
        "id": "OadLGxo45kNL",
        "outputId": "4a42494c-0c13-486e-a9a5-cb3ba32a852b"
      },
      "execution_count": 40,
      "outputs": [
        {
          "output_type": "stream",
          "name": "stdout",
          "text": [
            "1\n",
            "3\n"
          ]
        }
      ]
    },
    {
      "cell_type": "code",
      "execution_count": 12,
      "metadata": {
        "colab": {
          "base_uri": "https://localhost:8080/"
        },
        "id": "g17QP1OXxcZr",
        "outputId": "c5b251dc-dc4f-40e0-df28-9eb4d50a1af7"
      },
      "outputs": [
        {
          "output_type": "stream",
          "name": "stdout",
          "text": [
            "6\n",
            "12\n",
            "18\n",
            "24\n",
            "30\n",
            "36\n",
            "42\n",
            "48\n",
            "54\n",
            "60\n"
          ]
        }
      ],
      "source": [
        "# for i in range(5,50,5):\n",
        "#   print(i)\n",
        "# 5\n",
        "# 10\n",
        "# 15\n",
        "# 20\n",
        "# 25\n",
        "# 30\n",
        "# 35\n",
        "# 40\n",
        "# 45\n",
        "# 50\n",
        "\n",
        "num = 6\n",
        "for i in range(num,(num*10)+1,num):\n",
        "   print(i)"
      ]
    },
    {
      "cell_type": "code",
      "source": [
        "# for i in range(50,4,-5)\n",
        "# 50\n",
        "# 45\n",
        "# 40\n",
        "# 35\n",
        "# 30\n",
        "# 25\n",
        "# 20\n",
        "# 15\n",
        "# 10\n",
        "# 5\n",
        "\n",
        "num = 5\n",
        "for i in range(num*10, num-1, -num):\n",
        "    print(i)"
      ],
      "metadata": {
        "colab": {
          "base_uri": "https://localhost:8080/"
        },
        "id": "0okjxeulylA2",
        "outputId": "e90231c7-4bd7-4832-f7aa-8edba7d8eb67"
      },
      "execution_count": 13,
      "outputs": [
        {
          "output_type": "stream",
          "name": "stdout",
          "text": [
            "50\n",
            "45\n",
            "40\n",
            "35\n",
            "30\n",
            "25\n",
            "20\n",
            "15\n",
            "10\n",
            "5\n"
          ]
        }
      ]
    },
    {
      "cell_type": "code",
      "source": [
        "# num1 = 1\n",
        "# for j in range\n",
        "\n",
        "num = 15\n",
        "for i in range(num, (num*10)+1, num):\n",
        "  print(f'{num} * {i//num}= {i}')\n",
        "\n",
        "# alternate way\n",
        "num = 15\n",
        "count = 0\n",
        "for i in range(num, (num*10)+1, num):\n",
        "  count = count+1\n",
        "  print(f'{num} * {count}= {i}')\n"
      ],
      "metadata": {
        "colab": {
          "base_uri": "https://localhost:8080/"
        },
        "id": "CQzXkq1x0L9p",
        "outputId": "887e2fe0-7229-41d6-f9e3-348f8ae88cdf"
      },
      "execution_count": 20,
      "outputs": [
        {
          "output_type": "stream",
          "name": "stdout",
          "text": [
            "15 * 1= 15\n",
            "15 * 2= 30\n",
            "15 * 3= 45\n",
            "15 * 4= 60\n",
            "15 * 5= 75\n",
            "15 * 6= 90\n",
            "15 * 7= 105\n",
            "15 * 8= 120\n",
            "15 * 9= 135\n",
            "15 * 10= 150\n"
          ]
        }
      ]
    },
    {
      "cell_type": "code",
      "source": [
        "num = 15\n",
        "count = num + 1\n",
        "for i in range(num*10, num-1, -num):\n",
        "  count = count - 1\n",
        "  print(f'{num} * {count}= {i}')"
      ],
      "metadata": {
        "colab": {
          "base_uri": "https://localhost:8080/"
        },
        "id": "OpnevE0l1R8H",
        "outputId": "6756fedd-940b-43aa-abb4-3ae083e3ceec"
      },
      "execution_count": 28,
      "outputs": [
        {
          "output_type": "stream",
          "name": "stdout",
          "text": [
            "15 * 15= 150\n",
            "15 * 14= 135\n",
            "15 * 13= 120\n",
            "15 * 12= 105\n",
            "15 * 11= 90\n",
            "15 * 10= 75\n",
            "15 * 9= 60\n",
            "15 * 8= 45\n",
            "15 * 7= 30\n",
            "15 * 6= 15\n"
          ]
        }
      ]
    },
    {
      "cell_type": "code",
      "source": [
        "## Find numbers between 1 and 200 that are divisble by both 3 and 7\n",
        "\n",
        "for i in range(1, 201):\n",
        "  if i % 3 == 0 and i % 7 == 0:\n",
        "    print(i)"
      ],
      "metadata": {
        "colab": {
          "base_uri": "https://localhost:8080/"
        },
        "id": "vnL3H_F93ymK",
        "outputId": "180b49df-14a6-4c73-a21f-af15bb6acf14"
      },
      "execution_count": 36,
      "outputs": [
        {
          "output_type": "stream",
          "name": "stdout",
          "text": [
            "21\n",
            "42\n",
            "63\n",
            "84\n",
            "105\n",
            "126\n",
            "147\n",
            "168\n",
            "189\n"
          ]
        }
      ]
    },
    {
      "cell_type": "code",
      "source": [
        "## Count the numbers between 1 and 500 that are divisble by both 2, 3 and 7\n",
        "count = 0\n",
        "for i in range(1,501):\n",
        "  if i % 2 == 0 and i % 3 == 0 and i % 7 == 0:\n",
        "    count = count + 1\n",
        "    print(count, i)\n"
      ],
      "metadata": {
        "colab": {
          "base_uri": "https://localhost:8080/"
        },
        "id": "Q1UhKs3N6WcP",
        "outputId": "ea9f3230-ce82-40c8-ee0a-b40621e320b0"
      },
      "execution_count": 52,
      "outputs": [
        {
          "output_type": "stream",
          "name": "stdout",
          "text": [
            "1 42\n",
            "2 84\n",
            "3 126\n",
            "4 168\n",
            "5 210\n",
            "6 252\n",
            "7 294\n",
            "8 336\n",
            "9 378\n",
            "10 420\n",
            "11 462\n"
          ]
        }
      ]
    },
    {
      "cell_type": "markdown",
      "source": [
        "## Find the sum of first n natural numbers"
      ],
      "metadata": {
        "id": "hoEVvGSp9qQF"
      }
    },
    {
      "cell_type": "code",
      "source": [
        "sum = 0\n",
        "n = 12\n",
        "for i in range(1,n+1):\n",
        "  sum = sum + i\n",
        "  print(sum)"
      ],
      "metadata": {
        "colab": {
          "base_uri": "https://localhost:8080/"
        },
        "id": "Wo7bjqSt9q86",
        "outputId": "ad057513-6ca6-44f5-d84e-0bc25d781f1f"
      },
      "execution_count": 58,
      "outputs": [
        {
          "output_type": "stream",
          "name": "stdout",
          "text": [
            "1\n",
            "3\n",
            "6\n",
            "10\n",
            "15\n",
            "21\n",
            "28\n",
            "36\n",
            "45\n",
            "55\n",
            "66\n",
            "78\n"
          ]
        }
      ]
    },
    {
      "cell_type": "code",
      "source": [
        "for i in range(1,11):\n",
        "  print(i)\n",
        "  if i == 5:\n",
        "    continue"
      ],
      "metadata": {
        "colab": {
          "base_uri": "https://localhost:8080/"
        },
        "id": "bgbfMLMz_o-8",
        "outputId": "00a91efc-d428-497f-c5d0-152d76dd4728"
      },
      "execution_count": 60,
      "outputs": [
        {
          "output_type": "stream",
          "name": "stdout",
          "text": [
            "1\n",
            "2\n",
            "3\n",
            "4\n",
            "5\n",
            "6\n",
            "7\n",
            "8\n",
            "9\n",
            "10\n"
          ]
        }
      ]
    },
    {
      "cell_type": "markdown",
      "source": [
        "Find the first 10 numbers between 1 and 1000 that are divisible by all 3, 7 and 11"
      ],
      "metadata": {
        "id": "Z1mIhKqbARI6"
      }
    },
    {
      "cell_type": "code",
      "source": [
        "n = 10000\n",
        "count = 0\n",
        "for i in range(1,10001):\n",
        "  if i % 3 == 0 and i % 7 == 0 and i % 11 == 0:\n",
        "    count +=1\n",
        "    print(count, i)\n",
        ""
      ],
      "metadata": {
        "colab": {
          "base_uri": "https://localhost:8080/"
        },
        "id": "T-vT_3IiAQLe",
        "outputId": "391219f8-b6bc-4603-8ac2-4744240a6bec"
      },
      "execution_count": 65,
      "outputs": [
        {
          "output_type": "stream",
          "name": "stdout",
          "text": [
            "1 231\n",
            "2 462\n",
            "3 693\n",
            "4 924\n",
            "5 1155\n",
            "6 1386\n",
            "7 1617\n",
            "8 1848\n",
            "9 2079\n",
            "10 2310\n",
            "11 2541\n",
            "12 2772\n",
            "13 3003\n",
            "14 3234\n",
            "15 3465\n",
            "16 3696\n",
            "17 3927\n",
            "18 4158\n",
            "19 4389\n",
            "20 4620\n",
            "21 4851\n",
            "22 5082\n",
            "23 5313\n",
            "24 5544\n",
            "25 5775\n",
            "26 6006\n",
            "27 6237\n",
            "28 6468\n",
            "29 6699\n",
            "30 6930\n",
            "31 7161\n",
            "32 7392\n",
            "33 7623\n",
            "34 7854\n",
            "35 8085\n",
            "36 8316\n",
            "37 8547\n",
            "38 8778\n",
            "39 9009\n",
            "40 9240\n",
            "41 9471\n",
            "42 9702\n",
            "43 9933\n"
          ]
        }
      ]
    },
    {
      "cell_type": "code",
      "source": [
        "n = 10000\n",
        "count = 0\n",
        "for i in range(1,n+1):\n",
        "  if i % 3 == 0 and i % 7 == 0 and i % 11 == 0:\n",
        "    count = count + 1\n",
        "    print(count, i)\n",
        "    if count == 10:\n",
        "      break"
      ],
      "metadata": {
        "colab": {
          "base_uri": "https://localhost:8080/"
        },
        "id": "gM1psEDKAyk9",
        "outputId": "834de2e7-5fe7-45ff-88ec-454dbeaa70a6"
      },
      "execution_count": 70,
      "outputs": [
        {
          "output_type": "stream",
          "name": "stdout",
          "text": [
            "1 231\n",
            "2 462\n",
            "3 693\n",
            "4 924\n",
            "5 1155\n",
            "6 1386\n",
            "7 1617\n",
            "8 1848\n",
            "9 2079\n",
            "10 2310\n"
          ]
        }
      ]
    },
    {
      "cell_type": "code",
      "source": [
        "name = 'Ayush Mehndiratta'\n",
        "for i in name:\n",
        "  print(i)"
      ],
      "metadata": {
        "colab": {
          "base_uri": "https://localhost:8080/"
        },
        "id": "xZAqLMBaCeA6",
        "outputId": "47179ff4-6c0b-4086-94c9-19b4b3215298"
      },
      "execution_count": 71,
      "outputs": [
        {
          "output_type": "stream",
          "name": "stdout",
          "text": [
            "A\n",
            "y\n",
            "u\n",
            "s\n",
            "h\n",
            " \n",
            "M\n",
            "e\n",
            "h\n",
            "n\n",
            "d\n",
            "i\n",
            "r\n",
            "a\n",
            "t\n",
            "t\n",
            "a\n"
          ]
        }
      ]
    },
    {
      "cell_type": "code",
      "source": [
        "name = 'Ayush Mehndiratta'\n",
        "for i in name:\n",
        "  print(i, end=' ')"
      ],
      "metadata": {
        "colab": {
          "base_uri": "https://localhost:8080/"
        },
        "id": "8h8LyrQyC5yj",
        "outputId": "f93131d2-f8f8-4c5a-83c9-dd568948372d"
      },
      "execution_count": 73,
      "outputs": [
        {
          "output_type": "stream",
          "name": "stdout",
          "text": [
            "A y u s h   M e h n d i r a t t a "
          ]
        }
      ]
    },
    {
      "cell_type": "code",
      "source": [
        "name = 'Ayush Mehndiratta'\n",
        "for i in name:\n",
        "  print(i, end='-')"
      ],
      "metadata": {
        "colab": {
          "base_uri": "https://localhost:8080/"
        },
        "id": "R_Q7jd5WDEXf",
        "outputId": "b2fc382a-d727-4b12-acb8-03db6e885314"
      },
      "execution_count": 74,
      "outputs": [
        {
          "output_type": "stream",
          "name": "stdout",
          "text": [
            "A-y-u-s-h- -M-e-h-n-d-i-r-a-t-t-a-"
          ]
        }
      ]
    },
    {
      "cell_type": "markdown",
      "source": [
        "Find the count of number of vowels inside the string that the user gives."
      ],
      "metadata": {
        "id": "aU13jn1jDJeW"
      }
    },
    {
      "cell_type": "code",
      "source": [
        "string = input('Give a string: ')\n",
        "count = 0\n",
        "vowels = 'aeiouAEIOU'\n",
        "for char in string:\n",
        "  if char in vowels:\n",
        "    count += 1\n",
        "\n",
        "print(f'The number of vowels are {count}')"
      ],
      "metadata": {
        "colab": {
          "base_uri": "https://localhost:8080/"
        },
        "id": "BmB0ac0BDIC0",
        "outputId": "3a5fbd5c-9754-4b28-88da-d0535de34453"
      },
      "execution_count": 87,
      "outputs": [
        {
          "output_type": "stream",
          "name": "stdout",
          "text": [
            "Give a string: hgj aeiou hjg jgg\n",
            "The number of vowels are 5\n"
          ]
        }
      ]
    }
  ]
}